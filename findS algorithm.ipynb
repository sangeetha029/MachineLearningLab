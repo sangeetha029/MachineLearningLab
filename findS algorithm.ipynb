{
 "cells": [
  {
   "cell_type": "code",
   "execution_count": 13,
   "metadata": {},
   "outputs": [
    {
     "name": "stdout",
     "output_type": "stream",
     "text": [
      "['sunny', 'warm', 'normal', 'strong', 'warm', 'same', 'yes']\n",
      "['sunny', 'warm', 'high', 'strong', 'warm', 'same', 'yes']\n",
      "['rainy', 'cold', 'high', 'strong', 'warm', 'change', 'no']\n",
      "['sunny', 'warm', 'high', 'strong', 'cool', 'change', 'yes']\n",
      "the total number of training instances 4\n",
      "the initial hypothesis is\n",
      "['0', '0', '0', '0', '0', '0']\n",
      "\n",
      " Find S:the maximally specific hypothesis is\n",
      "\n",
      "the training example no:0 the hypothesis is ['sunny', 'warm', 'normal', 'strong', 'warm', 'same']\n",
      "\n",
      "the training example no:1 the hypothesis is ['sunny', 'warm', '?', 'strong', 'warm', 'same']\n",
      "\n",
      "the training example no:2 the hypothesis is ['sunny', 'warm', '?', 'strong', 'warm', 'same']\n",
      "\n",
      "the training example no:3 the hypothesis is ['sunny', 'warm', '?', 'strong', '?', '?']\n",
      "\n",
      "the maximally specific hypothesis of the training example is\n",
      "['sunny', 'warm', '?', 'strong', '?', '?']\n"
     ]
    }
   ],
   "source": [
    "import csv\n",
    "num_attribute=6\n",
    "a=[]\n",
    "with open('D:\\pgm\\p1.csv','r')as csvfile:\n",
    "    reader=csv.reader(csvfile)\n",
    "    for row in reader:\n",
    "        a.append(row)\n",
    "        print(row)\n",
    "print(\"the total number of training instances\",len(a))\n",
    "num_attribute=len(a[0])-1\n",
    "print(\"the initial hypothesis is\")\n",
    "hypothesis=['0']*num_attribute\n",
    "print(hypothesis)\n",
    "for j in range(0,num_attribute):\n",
    "    hypothesis[j]=a[0][j]\n",
    "print(\"\\n Find S:the maximally specific hypothesis is\")\n",
    "for i in range(0,len(a)):\n",
    "    if a[i][num_attribute]=='yes':\n",
    "        for j in range(0,num_attribute):\n",
    "            if a[i][j]!=hypothesis[j]:\n",
    "                hypothesis[j]='?'\n",
    "            else:\n",
    "                hypothesis[j]=a[i][j]\n",
    "    print(\"\\nthe training example no:{0} the hypothesis is\".format(i),hypothesis)\n",
    "print(\"\\nthe maximally specific hypothesis of the training example is\")\n",
    "print(hypothesis)\n",
    "        \n",
    "        \n",
    "    \n",
    "    "
   ]
  },
  {
   "cell_type": "code",
   "execution_count": null,
   "metadata": {},
   "outputs": [],
   "source": []
  },
  {
   "cell_type": "code",
   "execution_count": null,
   "metadata": {},
   "outputs": [],
   "source": []
  },
  {
   "cell_type": "code",
   "execution_count": null,
   "metadata": {},
   "outputs": [],
   "source": []
  }
 ],
 "metadata": {
  "kernelspec": {
   "display_name": "Python 3",
   "language": "python",
   "name": "python3"
  },
  "language_info": {
   "codemirror_mode": {
    "name": "ipython",
    "version": 3
   },
   "file_extension": ".py",
   "mimetype": "text/x-python",
   "name": "python",
   "nbconvert_exporter": "python",
   "pygments_lexer": "ipython3",
   "version": "3.8.3"
  }
 },
 "nbformat": 4,
 "nbformat_minor": 4
}
