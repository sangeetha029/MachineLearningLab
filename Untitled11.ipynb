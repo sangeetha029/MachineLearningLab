{
 "cells": [
  {
   "cell_type": "code",
   "execution_count": 23,
   "metadata": {},
   "outputs": [
    {
     "name": "stdout",
     "output_type": "stream",
     "text": [
      "datasets are loaded\n",
      "splitting training and testing datasets\n",
      "size of training data and the label (135, 4) (135,)\n",
      "size of testing data and the label (15, 4) (15,)\n",
      "label 0 - setosa\n",
      "label 1 - versicolor\n",
      "label 2 - virginica\n",
      "result of classification using knn with k=1\n",
      "sample [6.1 3.  4.6 1.4] actual_label 1 predicted_label 1\n",
      "sample [6.6 3.  4.4 1.4] actual_label 1 predicted_label 1\n",
      "sample [6.7 2.5 5.8 1.8] actual_label 2 predicted_label 2\n",
      "sample [6.3 2.9 5.6 1.8] actual_label 2 predicted_label 2\n",
      "sample [6.3 2.7 4.9 1.8] actual_label 2 predicted_label 2\n",
      "sample [5.1 3.3 1.7 0.5] actual_label 0 predicted_label 0\n",
      "sample [5.9 3.2 4.8 1.8] actual_label 1 predicted_label 2\n",
      "sample [6.2 2.8 4.8 1.8] actual_label 2 predicted_label 2\n",
      "sample [5.8 2.7 4.1 1. ] actual_label 1 predicted_label 1\n",
      "sample [6.4 2.8 5.6 2.1] actual_label 2 predicted_label 2\n",
      "sample [6.1 2.6 5.6 1.4] actual_label 2 predicted_label 1\n",
      "sample [5.  2.  3.5 1. ] actual_label 1 predicted_label 1\n",
      "sample [5.7 3.  4.2 1.2] actual_label 1 predicted_label 1\n",
      "sample [5.6 2.8 4.9 2. ] actual_label 2 predicted_label 2\n",
      "sample [5.9 3.  5.1 1.8] actual_label 2 predicted_label 2\n",
      "classification accuracy 0.8666666666666667\n",
      "confusion_matrix\n",
      "[[1 0 0]\n",
      " [0 5 1]\n",
      " [0 1 7]]\n",
      "accuracy metrics\n",
      "              precision    recall  f1-score   support\n",
      "\n",
      "           0       1.00      1.00      1.00         1\n",
      "           1       0.83      0.83      0.83         6\n",
      "           2       0.88      0.88      0.88         8\n",
      "\n",
      "    accuracy                           0.87        15\n",
      "   macro avg       0.90      0.90      0.90        15\n",
      "weighted avg       0.87      0.87      0.87        15\n",
      "\n"
     ]
    }
   ],
   "source": [
    "from sklearn.model_selection import train_test_split\n",
    "from sklearn.neighbors import KNeighborsClassifier\n",
    "from sklearn import datasets\n",
    "iris=datasets.load_iris()\n",
    "print(\"datasets are loaded\")\n",
    "x_train,x_test,y_train,y_test=train_test_split(iris.data,iris.target,test_size=0.1)\n",
    "print(\"splitting training and testing datasets\")\n",
    "print(\"size of training data and the label\",x_train.shape,y_train.shape)\n",
    "print(\"size of testing data and the label\",x_test.shape,y_test.shape)\n",
    "for i in range(len(iris.target_names)):\n",
    "    print(\"label\",i,\"-\",str(iris.target_names[i]))\n",
    "classifier=KNeighborsClassifier(n_neighbors=1)\n",
    "classifier.fit(x_train,y_train)\n",
    "y_pred=classifier.predict(x_test)\n",
    "print(\"result of classification using knn with k=1\")\n",
    "for r in range(0,len(x_test)):\n",
    "    print(\"sample\",str(x_test[r]),\"actual_label\",str(y_test[r]),\"predicted_label\",str(y_pred[r]))\n",
    "print(\"classification accuracy\",classifier.score(x_test,y_test));\n",
    "\n",
    "from sklearn.metrics import classification_report,confusion_matrix\n",
    "print(\"confusion_matrix\")\n",
    "print(confusion_matrix(y_test,y_pred))\n",
    "print(\"accuracy metrics\")\n",
    "print(classification_report(y_test,y_pred))\n",
    "    \n"
   ]
  },
  {
   "cell_type": "code",
   "execution_count": null,
   "metadata": {},
   "outputs": [],
   "source": []
  }
 ],
 "metadata": {
  "kernelspec": {
   "display_name": "Python 3",
   "language": "python",
   "name": "python3"
  },
  "language_info": {
   "codemirror_mode": {
    "name": "ipython",
    "version": 3
   },
   "file_extension": ".py",
   "mimetype": "text/x-python",
   "name": "python",
   "nbconvert_exporter": "python",
   "pygments_lexer": "ipython3",
   "version": "3.8.3"
  }
 },
 "nbformat": 4,
 "nbformat_minor": 4
}
