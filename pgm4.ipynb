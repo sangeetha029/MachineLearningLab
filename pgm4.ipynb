{
 "cells": [
  {
   "cell_type": "code",
   "execution_count": 8,
   "metadata": {},
   "outputs": [
    {
     "name": "stdout",
     "output_type": "stream",
     "text": [
      "input[[2 9]\n",
      " [1 5]\n",
      " [3 6]]\n",
      "actual output[[0.92]\n",
      " [0.86]\n",
      " [0.89]]\n",
      "predicted output [[0.9091903 ]\n",
      " [0.86791849]\n",
      " [0.89103228]]\n"
     ]
    }
   ],
   "source": [
    "import numpy as np\n",
    "X=np.array(([2,9],[1,5],[3,6]))\n",
    "y=np.array(([92],[86],[89]))\n",
    "y=y/100\n",
    "\n",
    "def sigmoid(x):\n",
    "    return 1/(1+np.exp(-x))\n",
    "def derivatives_sigmoid(x):\n",
    "    return x*(1-x)\n",
    "\n",
    "epoch=10000\n",
    "lr=0.1\n",
    "inputlayer_neuron=2\n",
    "hiddenlayer_neuron=3\n",
    "output_neuron=1\n",
    "\n",
    "wh=np.random.uniform(size=(inputlayer_neuron,hiddenlayer_neuron))\n",
    "bias_hidden=np.random.uniform(size=(1,hiddenlayer_neuron))\n",
    "weight_hidden=np.random.uniform(size=(hiddenlayer_neuron,output_neuron))\n",
    "bias_output=np.random.uniform(size=(1,output_neuron))\n",
    "\n",
    "for i in range(epoch):\n",
    "    hinp1=np.dot(X,wh)\n",
    "    hinp=hinp1+bias_hidden\n",
    "    hlayer_activation=sigmoid(hinp)\n",
    "    \n",
    "    outinp1=np.dot(hlayer_activation,weight_hidden)\n",
    "    outinp=outinp1+bias_output\n",
    "    output=sigmoid(outinp)\n",
    "    \n",
    "    EO=y-output\n",
    "    outgrad=derivatives_sigmoid(output)\n",
    "    d_output=EO*outgrad\n",
    "    EH=d_output.dot(weight_hidden.T)\n",
    "    hiddengrad=derivatives_sigmoid(hlayer_activation)\n",
    "    d_hiddenlayer=EO*hiddengrad\n",
    "    \n",
    "    weight_hidden+=hlayer_activation.T.dot(d_output)*lr\n",
    "    bias_hidden+=np.sum( d_hiddenlayer,axis=0,keepdims=True)*lr\n",
    "    \n",
    "    wh+=X.T.dot(d_hiddenlayer)*lr\n",
    "    bias_output+=np.sum(d_output ,axis=0,keepdims=True)*lr\n",
    "    \n",
    "print(\"input\"+str(X))\n",
    "print(\"actual output\"+str(y))\n",
    "print(\"predicted output\",output)    "
   ]
  },
  {
   "cell_type": "code",
   "execution_count": null,
   "metadata": {},
   "outputs": [],
   "source": []
  },
  {
   "cell_type": "code",
   "execution_count": null,
   "metadata": {},
   "outputs": [],
   "source": []
  }
 ],
 "metadata": {
  "kernelspec": {
   "display_name": "Python 3",
   "language": "python",
   "name": "python3"
  },
  "language_info": {
   "codemirror_mode": {
    "name": "ipython",
    "version": 3
   },
   "file_extension": ".py",
   "mimetype": "text/x-python",
   "name": "python",
   "nbconvert_exporter": "python",
   "pygments_lexer": "ipython3",
   "version": "3.8.3"
  }
 },
 "nbformat": 4,
 "nbformat_minor": 4
}
