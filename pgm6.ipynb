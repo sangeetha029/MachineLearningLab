{
 "cells": [
  {
   "cell_type": "code",
   "execution_count": 1,
   "metadata": {},
   "outputs": [
    {
     "name": "stdout",
     "output_type": "stream",
     "text": [
      "the dimension of dataset is (18, 2)\n",
      "the total number of training data (13,)\n",
      "the total number of test data (5,)\n",
      "the tokens and words in the text  document\n",
      "['am', 'amazing', 'an', 'awesome', 'best', 'boss', 'can', 'dance', 'deal', 'do', 'enemy', 'great', 'he', 'holiday', 'horrible', 'house', 'is', 'like', 'love', 'my', 'not', 'of', 'place', 'restaurant', 'sandwich', 'stuff', 'sworn', 'this', 'tired', 'to', 'today', 'view', 'went', 'what', 'with', 'work']\n",
      "\n",
      " accuracy of the classifier is  0.8\n",
      "\n",
      " confusion matrix  [[2 1]\n",
      " [0 2]]\n",
      "\n",
      " the value of precision score  0.6666666666666666\n",
      "\n",
      " the value of recall score  1.0\n"
     ]
    }
   ],
   "source": [
    "import pandas as pd\n",
    "from sklearn.model_selection import train_test_split\n",
    "from sklearn.feature_extraction.text import CountVectorizer\n",
    "from sklearn.naive_bayes import MultinomialNB\n",
    "from sklearn import metrics\n",
    "\n",
    "msg=pd.read_csv('D:/pgm/naive2.csv',names=['message','label'])\n",
    "print(\"the dimension of dataset is\",msg.shape)\n",
    "msg['labelnum']=msg.label.map({'pos':1,'neg':0})\n",
    "X=msg.message\n",
    "y=msg.labelnum\n",
    "xtrain,xtest,ytrain,ytest=train_test_split(X,y)\n",
    "print(\"the total number of training data\",ytrain.shape)\n",
    "print(\"the total number of test data\",ytest.shape)\n",
    "cv=CountVectorizer()\n",
    "xtrain_dtm=cv.fit_transform(xtrain)\n",
    "xtest_dtm=cv.transform(xtest)\n",
    "print(\"the tokens and words in the text  document\")\n",
    "print(cv.get_feature_names())\n",
    "df= pd.DataFrame(xtrain_dtm.toarray(),columns=cv.get_feature_names())\n",
    "clf= MultinomialNB().fit(xtrain_dtm,ytrain)\n",
    "predicted=clf.predict(xtest_dtm)\n",
    "print(\"\\n accuracy of the classifier is \",metrics.accuracy_score(ytest,predicted))\n",
    "print(\"\\n confusion matrix \",metrics.confusion_matrix(ytest,predicted))\n",
    "print(\"\\n the value of precision score \",metrics.precision_score(ytest,predicted))\n",
    "print(\"\\n the value of recall score \",metrics.recall_score(ytest,predicted))\n",
    "\n"
   ]
  },
  {
   "cell_type": "code",
   "execution_count": null,
   "metadata": {},
   "outputs": [],
   "source": []
  }
 ],
 "metadata": {
  "kernelspec": {
   "display_name": "Python 3",
   "language": "python",
   "name": "python3"
  },
  "language_info": {
   "codemirror_mode": {
    "name": "ipython",
    "version": 3
   },
   "file_extension": ".py",
   "mimetype": "text/x-python",
   "name": "python",
   "nbconvert_exporter": "python",
   "pygments_lexer": "ipython3",
   "version": "3.8.3"
  }
 },
 "nbformat": 4,
 "nbformat_minor": 4
}
